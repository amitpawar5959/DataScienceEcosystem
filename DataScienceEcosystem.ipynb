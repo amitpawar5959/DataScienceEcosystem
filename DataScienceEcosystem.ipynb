{
 "cells": [
  {
   "cell_type": "markdown",
   "id": "a62d3469-723e-484c-b134-4378cdf155dd",
   "metadata": {},
   "source": [
    "# Data Science Tools and Ecosystem"
   ]
  },
  {
   "cell_type": "markdown",
   "id": "22405013-7485-4ca8-9ef0-1203781c7b84",
   "metadata": {},
   "source": [
    "In this notebook, Data Science Tools and Ecosystem are summarized."
   ]
  },
  {
   "cell_type": "markdown",
   "id": "f106ea9c-b45b-4d45-ae37-d6cde7b4250f",
   "metadata": {},
   "source": [
    "Some of the popular languages that Data Scientists use are:\n",
    "1. Python\n",
    "2. R\n",
    "3. Java"
   ]
  },
  {
   "cell_type": "markdown",
   "id": "8357effc-c245-481a-9b97-64f1cffb5769",
   "metadata": {},
   "source": [
    "Some of the commonly used libraries used by Data Scientists include:\n",
    "1. TensorFlow\n",
    "2. NumPy\n",
    "3. Pandas"
   ]
  },
  {
   "cell_type": "markdown",
   "id": "85b1b4ee-7b4f-458e-8918-8e597b145c08",
   "metadata": {},
   "source": [
    "| Data Science Tools |\n",
    "|---|\n",
    "| Jupyter Notebook |\n",
    "| R-Studio |\n",
    "| Weka |"
   ]
  },
  {
   "cell_type": "markdown",
   "id": "37b070f4-41e8-4200-8347-7ceffab12a27",
   "metadata": {},
   "source": [
    "### Below are a few examples of evaluating arithmetic expressions in Python."
   ]
  },
  {
   "cell_type": "code",
   "execution_count": 1,
   "id": "2f7363b3-e970-4658-a24a-33efffb90307",
   "metadata": {},
   "outputs": [
    {
     "data": {
      "text/plain": [
       "17"
      ]
     },
     "execution_count": 1,
     "metadata": {},
     "output_type": "execute_result"
    }
   ],
   "source": [
    "#This a simple arithmetic expression to mutiply then add integers\n",
    "(3*4)+5"
   ]
  },
  {
   "cell_type": "code",
   "execution_count": 2,
   "id": "50aed38d-b405-4be5-b8a5-07e3d436259c",
   "metadata": {},
   "outputs": [
    {
     "data": {
      "text/plain": [
       "3.3333333333333335"
      ]
     },
     "execution_count": 2,
     "metadata": {},
     "output_type": "execute_result"
    }
   ],
   "source": [
    "min=200\n",
    "#This will convert 200 minutes to hours by diving by 60\n",
    "hrs=min/60\n",
    "hrs"
   ]
  },
  {
   "cell_type": "markdown",
   "id": "35eb8754-ad5e-4a4e-ab58-2e587501439f",
   "metadata": {},
   "source": [
    "__Objectives:__\n",
    "- Popular languages that Data Scientists use.\n",
    "- Commonly used libraries by Data Scientists.\n",
    "- Evaluating arithmetic expressions in Python."
   ]
  },
  {
   "cell_type": "markdown",
   "id": "2fd7a6fe-4f4e-431a-ac7e-8a5b1ecd9660",
   "metadata": {},
   "source": [
    "## Author\n",
    "Amit Pawar"
   ]
  }
 ],
 "metadata": {
  "kernelspec": {
   "display_name": "Python 3 (ipykernel)",
   "language": "python",
   "name": "python3"
  },
  "language_info": {
   "codemirror_mode": {
    "name": "ipython",
    "version": 3
   },
   "file_extension": ".py",
   "mimetype": "text/x-python",
   "name": "python",
   "nbconvert_exporter": "python",
   "pygments_lexer": "ipython3",
   "version": "3.12.2"
  }
 },
 "nbformat": 4,
 "nbformat_minor": 5
}
